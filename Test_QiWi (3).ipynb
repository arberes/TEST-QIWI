{
 "cells": [
  {
   "cell_type": "markdown",
   "id": "7a5e7cdd",
   "metadata": {},
   "source": [
    "# Описание задачи"
   ]
  },
  {
   "cell_type": "markdown",
   "id": "ed3b57e1",
   "metadata": {},
   "source": [
    "На дворе 29.07.2022. Есть запрос от продакт-менеджера встроить в существующий дашборд новый виджет: число привязок почт пользователей по дням за последние 45 дней."
   ]
  },
  {
   "cell_type": "markdown",
   "id": "e2d60655",
   "metadata": {},
   "source": [
    "# Решение"
   ]
  },
  {
   "cell_type": "markdown",
   "id": "2149d64c",
   "metadata": {},
   "source": [
    "Импортируем нужные библиотеки"
   ]
  },
  {
   "cell_type": "code",
   "execution_count": 2,
   "id": "85a42ec1",
   "metadata": {},
   "outputs": [],
   "source": [
    "import pandas as pd\n",
    "from sqlalchemy import create_engine"
   ]
  },
  {
   "cell_type": "markdown",
   "id": "4f19a1e3",
   "metadata": {},
   "source": [
    "Загружаем таблицы и смотрим что получилось"
   ]
  },
  {
   "cell_type": "code",
   "execution_count": 3,
   "id": "d24d0966",
   "metadata": {},
   "outputs": [
    {
     "data": {
      "text/html": [
       "<div>\n",
       "<style scoped>\n",
       "    .dataframe tbody tr th:only-of-type {\n",
       "        vertical-align: middle;\n",
       "    }\n",
       "\n",
       "    .dataframe tbody tr th {\n",
       "        vertical-align: top;\n",
       "    }\n",
       "\n",
       "    .dataframe thead th {\n",
       "        text-align: right;\n",
       "    }\n",
       "</style>\n",
       "<table border=\"1\" class=\"dataframe\">\n",
       "  <thead>\n",
       "    <tr style=\"text-align: right;\">\n",
       "      <th></th>\n",
       "      <th>prs_id</th>\n",
       "      <th>prs_creation_date</th>\n",
       "      <th>bound_email</th>\n",
       "    </tr>\n",
       "  </thead>\n",
       "  <tbody>\n",
       "    <tr>\n",
       "      <th>0</th>\n",
       "      <td>7608927637027400000</td>\n",
       "      <td>2019-10-28 12:40:13.000000</td>\n",
       "      <td>2236330614944998422@qiwi</td>\n",
       "    </tr>\n",
       "    <tr>\n",
       "      <th>1</th>\n",
       "      <td>3981260155811510000</td>\n",
       "      <td>2017-10-14 23:03:42.000000</td>\n",
       "      <td>NaN</td>\n",
       "    </tr>\n",
       "    <tr>\n",
       "      <th>2</th>\n",
       "      <td>2061196687922740000</td>\n",
       "      <td>2019-11-05 02:33:16.000000</td>\n",
       "      <td>NaN</td>\n",
       "    </tr>\n",
       "    <tr>\n",
       "      <th>3</th>\n",
       "      <td>6044625676091300000</td>\n",
       "      <td>2015-03-13 21:34:38.000000</td>\n",
       "      <td>NaN</td>\n",
       "    </tr>\n",
       "    <tr>\n",
       "      <th>4</th>\n",
       "      <td>4328802394636760000</td>\n",
       "      <td>2022-01-29 23:46:14.000000</td>\n",
       "      <td>NaN</td>\n",
       "    </tr>\n",
       "  </tbody>\n",
       "</table>\n",
       "</div>"
      ],
      "text/plain": [
       "                prs_id           prs_creation_date               bound_email\n",
       "0  7608927637027400000  2019-10-28 12:40:13.000000  2236330614944998422@qiwi\n",
       "1  3981260155811510000  2017-10-14 23:03:42.000000                       NaN\n",
       "2  2061196687922740000  2019-11-05 02:33:16.000000                       NaN\n",
       "3  6044625676091300000  2015-03-13 21:34:38.000000                       NaN\n",
       "4  4328802394636760000  2022-01-29 23:46:14.000000                       NaN"
      ]
     },
     "execution_count": 3,
     "metadata": {},
     "output_type": "execute_result"
    }
   ],
   "source": [
    "df_profile = pd.read_csv('C:/Python/PERSONS_AUTH.csv', delimiter=',')\n",
    "df_profile.head()"
   ]
  },
  {
   "cell_type": "code",
   "execution_count": 4,
   "id": "9885a073",
   "metadata": {},
   "outputs": [
    {
     "data": {
      "text/html": [
       "<div>\n",
       "<style scoped>\n",
       "    .dataframe tbody tr th:only-of-type {\n",
       "        vertical-align: middle;\n",
       "    }\n",
       "\n",
       "    .dataframe tbody tr th {\n",
       "        vertical-align: top;\n",
       "    }\n",
       "\n",
       "    .dataframe thead th {\n",
       "        text-align: right;\n",
       "    }\n",
       "</style>\n",
       "<table border=\"1\" class=\"dataframe\">\n",
       "  <thead>\n",
       "    <tr style=\"text-align: right;\">\n",
       "      <th></th>\n",
       "      <th>pah_prs_id</th>\n",
       "      <th>pah_prs_creation_date</th>\n",
       "      <th>pah_bound_email</th>\n",
       "      <th>pah_modify_date</th>\n",
       "    </tr>\n",
       "  </thead>\n",
       "  <tbody>\n",
       "    <tr>\n",
       "      <th>0</th>\n",
       "      <td>4020172551587850000</td>\n",
       "      <td>2016-01-16 23:33:23.000000</td>\n",
       "      <td>NaN</td>\n",
       "      <td>2017-10-05 22:46:47.000000</td>\n",
       "    </tr>\n",
       "    <tr>\n",
       "      <th>1</th>\n",
       "      <td>8820235108258620000</td>\n",
       "      <td>2018-01-07 22:04:08.000000</td>\n",
       "      <td>NaN</td>\n",
       "      <td>2018-01-11 14:44:05.000000</td>\n",
       "    </tr>\n",
       "    <tr>\n",
       "      <th>2</th>\n",
       "      <td>3111584182692220000</td>\n",
       "      <td>2017-09-22 05:45:35.000000</td>\n",
       "      <td>NaN</td>\n",
       "      <td>2017-09-22 05:45:42.000000</td>\n",
       "    </tr>\n",
       "    <tr>\n",
       "      <th>3</th>\n",
       "      <td>2199921048971120000</td>\n",
       "      <td>2017-04-08 17:21:35.000000</td>\n",
       "      <td>5239951468638775617@qiwi</td>\n",
       "      <td>2017-09-19 21:07:39.000000</td>\n",
       "    </tr>\n",
       "    <tr>\n",
       "      <th>4</th>\n",
       "      <td>3880999903532200000</td>\n",
       "      <td>2017-10-03 11:21:13.000000</td>\n",
       "      <td>NaN</td>\n",
       "      <td>2017-10-03 11:21:23.000000</td>\n",
       "    </tr>\n",
       "  </tbody>\n",
       "</table>\n",
       "</div>"
      ],
      "text/plain": [
       "            pah_prs_id       pah_prs_creation_date           pah_bound_email  \\\n",
       "0  4020172551587850000  2016-01-16 23:33:23.000000                       NaN   \n",
       "1  8820235108258620000  2018-01-07 22:04:08.000000                       NaN   \n",
       "2  3111584182692220000  2017-09-22 05:45:35.000000                       NaN   \n",
       "3  2199921048971120000  2017-04-08 17:21:35.000000  5239951468638775617@qiwi   \n",
       "4  3880999903532200000  2017-10-03 11:21:13.000000                       NaN   \n",
       "\n",
       "              pah_modify_date  \n",
       "0  2017-10-05 22:46:47.000000  \n",
       "1  2018-01-11 14:44:05.000000  \n",
       "2  2017-09-22 05:45:42.000000  \n",
       "3  2017-09-19 21:07:39.000000  \n",
       "4  2017-10-03 11:21:23.000000  "
      ]
     },
     "execution_count": 4,
     "metadata": {},
     "output_type": "execute_result"
    }
   ],
   "source": [
    "df_hist = pd.read_csv('C:/Python/PERSONS_AUTH_HISTORY.csv', delimiter=';')\n",
    "df_hist.head()"
   ]
  },
  {
   "cell_type": "markdown",
   "id": "326dd90f",
   "metadata": {},
   "source": [
    "Загружаем датафреймы в нашу базу данных:"
   ]
  },
  {
   "cell_type": "code",
   "execution_count": 5,
   "id": "018cf09a",
   "metadata": {},
   "outputs": [
    {
     "data": {
      "text/plain": [
       "21207"
      ]
     },
     "execution_count": 5,
     "metadata": {},
     "output_type": "execute_result"
    }
   ],
   "source": [
    "engine = create_engine('sqlite://', echo=False)\n",
    "df_profile.to_sql ('users', con = engine, index = True)\n",
    "df_hist.to_sql ('history', con = engine, index = True) "
   ]
  },
  {
   "cell_type": "markdown",
   "id": "23465ec0",
   "metadata": {},
   "source": [
    "Мы хотим узнать как много пользователей добавило свой имэйл в отчетные дни. Для этого будем проверять был ли имэйл пустым до изменения и есть ли после изменения имэйл в базе."
   ]
  },
  {
   "cell_type": "code",
   "execution_count": 12,
   "id": "b7c48c6d",
   "metadata": {},
   "outputs": [],
   "source": [
    "result = engine.execute(\"\"\"\n",
    "WITH short_tab AS\n",
    "    ( SELECT pah_prs_id as user_id\n",
    "    , SUBSTRING (pah_modify_date,1,10) as event_date\n",
    "    , pah_modify_date as event_time\n",
    "    , pah_bound_email as event_email\n",
    "    , LAST_VALUE(pah_modify_date) OVER (PARTITION BY pah_prs_id ORDER BY pah_modify_date) as last_change_time\n",
    "    , LEAD(pah_bound_email) OVER (PARTITION BY pah_prs_id ORDER BY pah_modify_date) as next_email\n",
    "    , u.bound_email as final_email\n",
    "    FROM history h\n",
    "    LEFT JOIN users u ON u.prs_id=h.pah_prs_id\n",
    "    WHERE pah_modify_date >='2022-06-15')\n",
    "    \n",
    "    SELECT event_date\n",
    "    , COUNT(DISTINCT user_id) as qty\n",
    "    FROM short_tab\n",
    "    WHERE (event_email IS NULL AND next_email IS NOT NULL)\n",
    "       OR (event_email IS NULL AND final_email IS NOT NULL AND event_time = last_change_time)\n",
    "    GROUP BY event_date\n",
    "    ORDER BY event_date\n",
    "\"\"\").fetchall()\n",
    "df = pd.DataFrame(result)"
   ]
  },
  {
   "cell_type": "markdown",
   "id": "f339cfd8",
   "metadata": {},
   "source": [
    "Выведем график по полученным значениям"
   ]
  },
  {
   "cell_type": "code",
   "execution_count": 13,
   "id": "c9a412d9",
   "metadata": {},
   "outputs": [
    {
     "data": {
      "image/png": "[encoded data removed]",
      "text/plain": [
       "<Figure size 432x288 with 1 Axes>"
      ]
     },
     "metadata": {
      "needs_background": "light"
     },
     "output_type": "display_data"
    }
   ],
   "source": [
    "df['date'] = df['event_date'].str.replace('2022-','')\n",
    "import seaborn as sns\n",
    "ax = sns.barplot(x = 'date', y = 'qty', data = df, color = 'blue')"
   ]
  }
 ],
 "metadata": {
  "kernelspec": {
   "display_name": "Python 3 (ipykernel)",
   "language": "python",
   "name": "python3"
  },
  "language_info": {
   "codemirror_mode": {
    "name": "ipython",
    "version": 3
   },
   "file_extension": ".py",
   "mimetype": "text/x-python",
   "name": "python",
   "nbconvert_exporter": "python",
   "pygments_lexer": "ipython3",
   "version": "3.9.12"
  }
 },
 "nbformat": 4,
 "nbformat_minor": 5
}
